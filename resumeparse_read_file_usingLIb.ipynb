{
  "nbformat": 4,
  "nbformat_minor": 0,
  "metadata": {
    "colab": {
      "name": "resumeparse.read_file_usingLIb.ipynb",
      "provenance": [],
      "mount_file_id": "1PoHYrDLhgpBzCoqghlXj_n9qsJY1N8go",
      "authorship_tag": "ABX9TyNHDNJYYpK9B+0Hhikfdhw8",
      "include_colab_link": true
    },
    "kernelspec": {
      "name": "python3",
      "display_name": "Python 3"
    }
  },
  "cells": [
    {
      "cell_type": "markdown",
      "metadata": {
        "id": "view-in-github",
        "colab_type": "text"
      },
      "source": [
        "<a href=\"https://colab.research.google.com/github/deepankar-pathak1/Resume-Analyzer/blob/main/resumeparse_read_file_usingLIb.ipynb\" target=\"_parent\"><img src=\"https://colab.research.google.com/assets/colab-badge.svg\" alt=\"Open In Colab\"/></a>"
      ]
    },
    {
      "cell_type": "code",
      "metadata": {
        "id": "qQNhBl3mT-uq"
      },
      "source": [
        "# !pip install resume-parser==0.5"
      ],
      "execution_count": 6,
      "outputs": []
    },
    {
      "cell_type": "code",
      "metadata": {
        "id": "wU3PMwQHUIwD"
      },
      "source": [
        "# !pip uninstall pdfminer.six 20201018"
      ],
      "execution_count": 5,
      "outputs": []
    },
    {
      "cell_type": "code",
      "metadata": {
        "id": "c8U_F3TQUkeu"
      },
      "source": [
        "# !pip install pdfminer.six==20200517"
      ],
      "execution_count": 4,
      "outputs": []
    },
    {
      "cell_type": "code",
      "metadata": {
        "colab": {
          "base_uri": "https://localhost:8080/"
        },
        "id": "oVwgKVwLUu2I",
        "outputId": "a18a056e-7ea6-4c4f-9644-df22e895af57"
      },
      "source": [
        "import nltk\r\n",
        "nltk.download('stopwords')\r\n",
        "from resume_parser import resumeparse\r\n",
        "import os\r\n",
        "import spacy\r\n",
        "spacy.load(\"en_core_web_sm\")\r\n"
      ],
      "execution_count": 1,
      "outputs": [
        {
          "output_type": "stream",
          "text": [
            "[nltk_data] Downloading package stopwords to /root/nltk_data...\n",
            "[nltk_data]   Package stopwords is already up-to-date!\n",
            "/usr/local/lib/python3.6/dist-packages/spacy/util.py:275: UserWarning: [W031] Model 'en_core_web_sm' (2.2.5) requires spaCy v2.2 and is incompatible with the current spaCy version (2.3.2). This may lead to unexpected results or runtime errors. To resolve this, download a newer compatible model or retrain your custom model with the current spaCy version. For more details and available updates, run: python -m spacy validate\n",
            "  warnings.warn(warn_msg)\n",
            "/usr/local/lib/python3.6/dist-packages/spacy/util.py:275: UserWarning: [W031] Model 'en_training' (0.0.0) requires spaCy v2.2 and is incompatible with the current spaCy version (2.3.2). This may lead to unexpected results or runtime errors. To resolve this, download a newer compatible model or retrain your custom model with the current spaCy version. For more details and available updates, run: python -m spacy validate\n",
            "  warnings.warn(warn_msg)\n"
          ],
          "name": "stderr"
        },
        {
          "output_type": "execute_result",
          "data": {
            "text/plain": [
              "<spacy.lang.en.English at 0x7ff9265a4a90>"
            ]
          },
          "metadata": {
            "tags": []
          },
          "execution_count": 1
        }
      ]
    },
    {
      "cell_type": "code",
      "metadata": {
        "colab": {
          "base_uri": "https://localhost:8080/"
        },
        "id": "P8X9peZMZkv0",
        "outputId": "9effbbe5-4149-4524-c842-6350e8572756"
      },
      "source": [
        "!pip uninstall spacy 2.2.2"
      ],
      "execution_count": 33,
      "outputs": [
        {
          "output_type": "stream",
          "text": [
            "Uninstalling spacy-2.2.2:\n",
            "  Would remove:\n",
            "    /usr/local/bin/spacy\n",
            "    /usr/local/lib/python3.6/dist-packages/bin/*\n",
            "    /usr/local/lib/python3.6/dist-packages/spacy-2.2.2.dist-info/*\n",
            "    /usr/local/lib/python3.6/dist-packages/spacy/*\n",
            "  Would not remove (might be manually added):\n",
            "    /usr/local/lib/python3.6/dist-packages/bin/theano_cache.py\n",
            "    /usr/local/lib/python3.6/dist-packages/bin/theano_nose.py\n",
            "Proceed (y/n)? y\n",
            "  Successfully uninstalled spacy-2.2.2\n",
            "\u001b[33mWARNING: Skipping 2.2.2 as it is not installed.\u001b[0m\n"
          ],
          "name": "stdout"
        }
      ]
    },
    {
      "cell_type": "code",
      "metadata": {
        "colab": {
          "base_uri": "https://localhost:8080/",
          "height": 624
        },
        "id": "FOepZx8SZpCL",
        "outputId": "048d974a-0f02-4587-98b4-e40aa4f4fccb"
      },
      "source": [
        " !pip install spacy==2.3.2"
      ],
      "execution_count": 34,
      "outputs": [
        {
          "output_type": "stream",
          "text": [
            "Collecting spacy==2.3.2\n",
            "\u001b[?25l  Downloading https://files.pythonhosted.org/packages/10/b5/c7a92c7ce5d4b353b70b4b5b4385687206c8b230ddfe08746ab0fd310a3a/spacy-2.3.2-cp36-cp36m-manylinux1_x86_64.whl (9.9MB)\n",
            "\u001b[K     |████████████████████████████████| 10.0MB 7.5MB/s \n",
            "\u001b[?25hRequirement already satisfied: setuptools in /usr/local/lib/python3.6/dist-packages (from spacy==2.3.2) (51.3.3)\n",
            "Requirement already satisfied: requests<3.0.0,>=2.13.0 in /usr/local/lib/python3.6/dist-packages (from spacy==2.3.2) (2.23.0)\n",
            "Requirement already satisfied: tqdm<5.0.0,>=4.38.0 in /usr/local/lib/python3.6/dist-packages (from spacy==2.3.2) (4.41.1)\n",
            "Requirement already satisfied: preshed<3.1.0,>=3.0.2 in /usr/local/lib/python3.6/dist-packages (from spacy==2.3.2) (3.0.5)\n",
            "Collecting thinc==7.4.1\n",
            "\u001b[?25l  Downloading https://files.pythonhosted.org/packages/10/ae/ef3ae5e93639c0ef8e3eb32e3c18341e511b3c515fcfc603f4b808087651/thinc-7.4.1-cp36-cp36m-manylinux1_x86_64.whl (2.1MB)\n",
            "\u001b[K     |████████████████████████████████| 2.1MB 39.4MB/s \n",
            "\u001b[?25hRequirement already satisfied: cymem<2.1.0,>=2.0.2 in /usr/local/lib/python3.6/dist-packages (from spacy==2.3.2) (2.0.5)\n",
            "Requirement already satisfied: wasabi<1.1.0,>=0.4.0 in /usr/local/lib/python3.6/dist-packages (from spacy==2.3.2) (0.8.1)\n",
            "Requirement already satisfied: srsly<1.1.0,>=1.0.2 in /usr/local/lib/python3.6/dist-packages (from spacy==2.3.2) (1.0.5)\n",
            "Requirement already satisfied: blis<0.5.0,>=0.4.0 in /usr/local/lib/python3.6/dist-packages (from spacy==2.3.2) (0.4.1)\n",
            "Requirement already satisfied: numpy>=1.15.0 in /usr/local/lib/python3.6/dist-packages (from spacy==2.3.2) (1.19.5)\n",
            "Requirement already satisfied: catalogue<1.1.0,>=0.0.7 in /usr/local/lib/python3.6/dist-packages (from spacy==2.3.2) (1.0.0)\n",
            "Requirement already satisfied: murmurhash<1.1.0,>=0.28.0 in /usr/local/lib/python3.6/dist-packages (from spacy==2.3.2) (1.0.5)\n",
            "Requirement already satisfied: plac<1.2.0,>=0.9.6 in /usr/local/lib/python3.6/dist-packages (from spacy==2.3.2) (1.1.3)\n",
            "Requirement already satisfied: urllib3!=1.25.0,!=1.25.1,<1.26,>=1.21.1 in /usr/local/lib/python3.6/dist-packages (from requests<3.0.0,>=2.13.0->spacy==2.3.2) (1.24.3)\n",
            "Requirement already satisfied: idna<3,>=2.5 in /usr/local/lib/python3.6/dist-packages (from requests<3.0.0,>=2.13.0->spacy==2.3.2) (2.10)\n",
            "Requirement already satisfied: certifi>=2017.4.17 in /usr/local/lib/python3.6/dist-packages (from requests<3.0.0,>=2.13.0->spacy==2.3.2) (2020.12.5)\n",
            "Requirement already satisfied: chardet<4,>=3.0.2 in /usr/local/lib/python3.6/dist-packages (from requests<3.0.0,>=2.13.0->spacy==2.3.2) (3.0.4)\n",
            "Requirement already satisfied: importlib-metadata>=0.20; python_version < \"3.8\" in /usr/local/lib/python3.6/dist-packages (from catalogue<1.1.0,>=0.0.7->spacy==2.3.2) (3.4.0)\n",
            "Requirement already satisfied: zipp>=0.5 in /usr/local/lib/python3.6/dist-packages (from importlib-metadata>=0.20; python_version < \"3.8\"->catalogue<1.1.0,>=0.0.7->spacy==2.3.2) (3.4.0)\n",
            "Requirement already satisfied: typing-extensions>=3.6.4; python_version < \"3.8\" in /usr/local/lib/python3.6/dist-packages (from importlib-metadata>=0.20; python_version < \"3.8\"->catalogue<1.1.0,>=0.0.7->spacy==2.3.2) (3.7.4.3)\n",
            "Installing collected packages: thinc, spacy\n",
            "  Found existing installation: thinc 7.3.1\n",
            "    Uninstalling thinc-7.3.1:\n",
            "      Successfully uninstalled thinc-7.3.1\n",
            "Successfully installed spacy-2.3.2 thinc-7.4.1\n"
          ],
          "name": "stdout"
        },
        {
          "output_type": "display_data",
          "data": {
            "application/vnd.colab-display-data+json": {
              "pip_warning": {
                "packages": [
                  "spacy",
                  "thinc"
                ]
              }
            }
          },
          "metadata": {
            "tags": []
          }
        }
      ]
    },
    {
      "cell_type": "code",
      "metadata": {
        "id": "A_cQ4c-pVNWR"
      },
      "source": [
        "import pandas as pd"
      ],
      "execution_count": 2,
      "outputs": []
    },
    {
      "cell_type": "code",
      "metadata": {
        "id": "0G26FpkzVcTd"
      },
      "source": [
        "data_2 = resumeparse.read_file(r'/content/Smith Resume.pdf')"
      ],
      "execution_count": 3,
      "outputs": []
    },
    {
      "cell_type": "code",
      "metadata": {
        "colab": {
          "base_uri": "https://localhost:8080/"
        },
        "id": "7THyUIwJVdmp",
        "outputId": "b4248f45-3cef-4d81-c555-3eb96087511b"
      },
      "source": [
        "type(data_2)"
      ],
      "execution_count": 4,
      "outputs": [
        {
          "output_type": "execute_result",
          "data": {
            "text/plain": [
              "dict"
            ]
          },
          "metadata": {
            "tags": []
          },
          "execution_count": 4
        }
      ]
    },
    {
      "cell_type": "code",
      "metadata": {
        "colab": {
          "base_uri": "https://localhost:8080/"
        },
        "id": "vPa5Z1YiWE8C",
        "outputId": "b65544ca-d1a0-4383-abfd-d2898efbb6ab"
      },
      "source": [
        "for i,j in data_2.items():\r\n",
        "    print(f\"{i} --> {j}\")"
      ],
      "execution_count": 5,
      "outputs": [
        {
          "output_type": "stream",
          "text": [
            "email --> None\n",
            "phone --> \n",
            "name --> Michael Smith\n",
            "total_exp --> 6\n",
            "university --> ['university of manchester']\n",
            "designition --> ['pick up', 'partner', 'project manager']\n",
            "degree --> []\n",
            "skills --> [' Web-based Applications', ' cloud solutions and Databases.', 'Data warehouse: Data analysis', ' star/ snow flake schema data modeling and design', 'specific todata warehousing and business intelligence environment.', 'Database: Experience in database designing', ' scalability', ' back-up and recovery', '', 'writing andoptimizing SQL code and Stored Procedures', ' creating functions', ' views', 'triggers and indexes.', 'Cloud platform: Worked on Microsoft Azure cloud services like Document DB', ' SQL', 'Azure', ' StreamAnalytics', ' Event hub', ' Power BI', ' Web Job', ' Web App', ' Azure', 'data lake analytics(U-SQL).', 'Big Data: Worked Azure data lake store/analytics for big data processing and Azure', 'data factoryto schedule U-SQL jobs. Designed and developed end to end big data', 'solution for data insights.', 'Willing to relocate: Anywhere', 'problem solving (Less than 1 year)', ' project lifecycle (Less than 1 year)', ' project', 'manager (Less than 1 year)', ' technical assistance. (Less than 1 year)', 'Excellent analytical', ' problem solving', ' communication', ' knowledge transfer and', 'interpersonalskills with ability to interact with individuals at all the levels', 'Quick learner and maintains cordial relationship with project manager and team', 'members andgood performer both in team and independent job environments', 'Positive attitude towards superiors &amp; peers', 'Supervised junior developers throughout project lifecycle and provided technical', 'assistance.']\n"
          ],
          "name": "stdout"
        }
      ]
    },
    {
      "cell_type": "code",
      "metadata": {
        "id": "nPm2sNz3WUUx"
      },
      "source": [
        "data_3 = resumeparse.read_file(r'/content/Deepankar data-.pdf')"
      ],
      "execution_count": 6,
      "outputs": []
    },
    {
      "cell_type": "code",
      "metadata": {
        "colab": {
          "base_uri": "https://localhost:8080/"
        },
        "id": "g51oE3KqWecE",
        "outputId": "ae35760b-9c86-433f-a5c2-ebfab309096f"
      },
      "source": [
        "for m,n in data_3.items():\r\n",
        "    # print(m)\r\n",
        "    if m == \"skills\":\r\n",
        "      for l in n:\r\n",
        "          print(l)"
      ],
      "execution_count": 7,
      "outputs": [
        {
          "output_type": "stream",
          "text": [
            ":- SQL\n",
            " Python\n",
            "Tools :- Microsoft Excel\n",
            " Tableau :- Machine Learning\n",
            " Deep Learning\n",
            "\n",
            "Python Libraries :- Numpy\n",
            "Pandas\n",
            "Matplotlib\n",
            "Seaborn\n",
            "Scikit-learn\n",
            "NLTK\n",
            "Algorithm :- Naive Bayes\n",
            " Random Forest\n",
            " SVM\n",
            " PCA\n",
            " Linear\n",
            "Regression\n",
            "DecisionTree\n",
            " KNN\n",
            "K-Means Clusturing\n",
            "Logistic Regression\n",
            "Gradient descent :- English\n",
            " Hindi\n",
            "Hobbies :- Teaching\n",
            " Reding books.\n",
            "LinkedIn :- https://www.linkedin.com/in/deepankar-pathak-823a25150/\n",
            "GitHub :- https://github.com/deepankar-pathak1\n",
            "mailto:pathakdeepankar989@gmail.com\n",
            "https://github.com/deepankar-pathak1/Personalized-cancer-diagnosis/blob/main/PersonalizedCancerDiagnosis.ipynb\n",
            "https://github.com/deepankar-pathak1/Quora-Question-Pairs\n",
            "https://www.linkedin.com/in/deepankar-pathak-823a25150/\n",
            "https://github.com/deepankar-pathak1\n"
          ],
          "name": "stdout"
        }
      ]
    },
    {
      "cell_type": "code",
      "metadata": {
        "id": "ICi_-vX9WlzW"
      },
      "source": [
        "data_4 = resumeparse.read_file(r'/content/CV_HeZhang.pdf')"
      ],
      "execution_count": 8,
      "outputs": []
    },
    {
      "cell_type": "code",
      "metadata": {
        "colab": {
          "base_uri": "https://localhost:8080/"
        },
        "id": "D7W9bLfmakE7",
        "outputId": "18098d27-22d1-48c2-d171-dbee41a09e85"
      },
      "source": [
        "print(type(data_4))"
      ],
      "execution_count": 9,
      "outputs": [
        {
          "output_type": "stream",
          "text": [
            "<class 'dict'>\n"
          ],
          "name": "stdout"
        }
      ]
    },
    {
      "cell_type": "code",
      "metadata": {
        "colab": {
          "base_uri": "https://localhost:8080/"
        },
        "id": "Dr2Vt_hlapmg",
        "outputId": "375783c7-707e-4e4b-a215-2702e9479f75"
      },
      "source": [
        "for i, j in data_4.items():\r\n",
        "    print(f\"{i} --> {j}\")"
      ],
      "execution_count": 12,
      "outputs": [
        {
          "output_type": "stream",
          "text": [
            "email --> klarke4001@gmail.com\n",
            "phone --> +358-505188888\n",
            "name --> Data Scientist\n",
            "total_exp --> 15\n",
            "university --> ['jilin university', 'helsinki university of technology', 'university of helsinki', 'university of technology']\n",
            "designition --> ['data scientist', 'scientist', 'data analyst', 'quality assurance', 'research assistant', 'committee member', 'supervisor', 'senior scientist', 'collector']\n",
            "degree --> ['PhD']\n",
            "skills --> ['mobile', 'multimedia', 'pattern recognition', 'models', 'technology', 'email', 'articles', 'mandarin', 'latex', 'signal', 'english', 'optical engineering', 'image processing', 'computer science', 'perl', 'data analytics', 'c', 'python', 'membership', 'presentation skills', 'semantics', 'signal processing', 'neural networks', 'matlab', 'information processing', 'digital media', 'ielts', 'art', 'data mining', 'communication systems', 'learning', 'online', 'data quality', 'processing', 'data cleaning', 'video compression', 'compression', 'machine learning', 'research', 'kernel', 'media research', 'award', 'c++', 'video', 'datasets', 'analytics', 'data quality assurance', 'journals', 'features', 'technical reports', 'algorithms', 'his', 'artificial neural networks', 'basic', 'finnish', 'ieee', 'forms', 'working experience', 'visualisation', 'writing', 'app', 'it', 'communications', 'her', 'bayesian', 'groups', 'conferences', 'javascript', 'ida', 'relevance', 'matrix', 'eye tracking', 'classification', 'chinese', 'speech', 'cluster', 'travel', 'color', 'data analysis', 'transformation', 'deliverables', 'digital', 'image compression', 'r10', 'segmentation', 'search', 'pattern', 'cluster analysis', 'sql', 'mining']\n"
          ],
          "name": "stdout"
        }
      ]
    },
    {
      "cell_type": "code",
      "metadata": {
        "id": "9nz2SrWfatIh"
      },
      "source": [
        " "
      ],
      "execution_count": null,
      "outputs": []
    }
  ]
}